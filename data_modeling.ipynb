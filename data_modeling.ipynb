{
 "cells": [
  {
   "cell_type": "code",
   "execution_count": 45,
   "metadata": {},
   "outputs": [],
   "source": [
    "import keras\n",
    "from keras.models import Sequential\n",
    "from keras.layers import Dense, Dropout, Flatten\n",
    "from keras.layers import Conv2D, MaxPooling2D,BatchNormalization\n",
    "from keras.models import load_model\n",
    "from keras.preprocessing.image import ImageDataGenerator\n",
    "\n",
    "import numpy as np\n",
    "import matplotlib.pyplot as plt\n",
    "import matplotlib\n",
    "import os\n",
    "from IPython.display import clear_output\n",
    "\n",
    "import time\n",
    "import xlrd\n",
    "from PIL import Image\n",
    "\n",
    "import itertools\n",
    "import shutil\n"
   ]
  },
  {
   "cell_type": "code",
   "execution_count": 2,
   "metadata": {},
   "outputs": [
    {
     "name": "stdout",
     "output_type": "stream",
     "text": [
      "   image_id  category\n",
      "0         0        77\n",
      "1         1        81\n",
      "2         2        52\n",
      "3         3        72\n",
      "4         4        58\n",
      "5         5         2\n",
      "6         6        75\n",
      "7         7        67\n",
      "8         8        51\n",
      "9         9        15\n"
     ]
    }
   ],
   "source": [
    "result = pandas.read_csv('./data/train.csv')\n",
    "print(result[:10])"
   ]
  },
  {
   "cell_type": "code",
   "execution_count": 3,
   "metadata": {},
   "outputs": [],
   "source": [
    "total_train_images = 18540\n",
    "total_categories = 102"
   ]
  },
  {
   "cell_type": "code",
   "execution_count": 4,
   "metadata": {},
   "outputs": [
    {
     "name": "stdout",
     "output_type": "stream",
     "text": [
      "[0, 90, 135, 90, 126, 147, 102, 90, 192, 105, 102, 198, 198, 111, 108, 111, 93, 192, 186, 111, 126, 90, 135, 207, 96, 93, 93, 90, 150, 177, 192, 117, 102, 105, 90, 99, 171, 243, 126, 93, 153, 288, 135, 294, 210, 90, 441, 153, 162, 111, 207, 582, 192, 210, 138, 162, 246, 153, 258, 153, 246, 114, 126, 123, 117, 231, 138, 96, 123, 123, 141, 177, 216, 438, 387, 270, 243, 567, 309, 93, 237, 375, 252, 297, 195, 144, 132, 144, 348, 414, 186, 171, 150, 105, 366, 288, 207, 150, 186, 144, 111, 132, 108]\n"
     ]
    }
   ],
   "source": [
    "images_per_category = [0 for i in range(total_categories+1)]\n",
    "\n",
    "for image_id in range(total_train_images):\n",
    "    category = result.iloc[image_id][1] \n",
    "    \n",
    "    images_per_category[category]+=1\n",
    "\n",
    "\n",
    "print(images_per_category)\n",
    "\n",
    "#there is no category 0\n",
    "#to keep the things simple : images_per_category[category] = number of images in category"
   ]
  },
  {
   "cell_type": "code",
   "execution_count": 78,
   "metadata": {},
   "outputs": [
    {
     "data": {
      "image/png": "[encoded data removed]",
      "text/plain": [
       "<Figure size 1224x360 with 1 Axes>"
      ]
     },
     "metadata": {
      "needs_background": "light"
     },
     "output_type": "display_data"
    }
   ],
   "source": [
    "plt.figure(figsize=(17,5))\n",
    "\n",
    "category_labels = [i for i in range(103)]\n",
    "\n",
    "plt.bar(category_labels , images_per_category)\n",
    "plt.xticks(category_labels , fontsize=9, rotation=90)\n",
    "plt.title('train images before augmentation')\n",
    "plt.xlabel('category')\n",
    "plt.ylabel('number of images')\n",
    "\n",
    "plt.show()\n"
   ]
  },
  {
   "cell_type": "code",
   "execution_count": 69,
   "metadata": {},
   "outputs": [],
   "source": [
    "'''\n",
    "# Create a new directory\n",
    "base_dir = './datatree'\n",
    "os.mkdir(base_dir)\n",
    "\n",
    "#create folders inside train and validation directories\n",
    "\n",
    "# train_dir\n",
    "train_dir = os.path.join(base_dir, 'train')\n",
    "os.mkdir(train_dir)\n",
    "\n",
    "# val_dir\n",
    "val_dir = os.path.join(base_dir, 'validation')\n",
    "os.mkdir(val_dir)\n",
    "\n",
    "# test_dir\n",
    "test_dir = os.path.join(base_dir, 'test')\n",
    "os.mkdir(test_dir)\n",
    "\n",
    "# create new folders inside train_dir\n",
    "for category in range(1,total_categories+1):\n",
    "    nv = os.path.join(train_dir, str(category))\n",
    "    os.mkdir(nv)\n",
    "    \n",
    "# create new folders inside val_dir\n",
    "for category in range(1,total_categories+1):\n",
    "    nv = os.path.join(val_dir, str(category))\n",
    "    os.mkdir(nv)\n",
    "    \n",
    "# create new folders inside test_dir\n",
    "for category in range(1,total_categories+1):\n",
    "    nv = os.path.join(test_dir, str(category))\n",
    "    os.mkdir(nv)\n",
    "'''"
   ]
  },
  {
   "cell_type": "code",
   "execution_count": 79,
   "metadata": {},
   "outputs": [],
   "source": [
    "#creating train tree\n",
    "'''\n",
    "from PIL import Image\n",
    "path='./datatree/train'\n",
    "imgpath='./data/train'\n",
    "for image_id in range(total_train_images):\n",
    "    category=str(result.iloc[image_id][1])\n",
    "    image_id=str(image_id)\n",
    "    \n",
    "    img=Image.open(imgpath+'/'+image_id+'.jpg')\n",
    "    img.save(path+'/'+category+'/'+image_id+'.jpg')\n",
    "'''"
   ]
  },
  {
   "cell_type": "code",
   "execution_count": 46,
   "metadata": {},
   "outputs": [
    {
     "name": "stdout",
     "output_type": "stream",
     "text": [
      "Found 90 images belonging to 1 classes.\n",
      "Found 135 images belonging to 1 classes.\n",
      "Found 90 images belonging to 1 classes.\n",
      "Found 126 images belonging to 1 classes.\n",
      "Found 147 images belonging to 1 classes.\n",
      "Found 102 images belonging to 1 classes.\n",
      "Found 90 images belonging to 1 classes.\n",
      "Found 192 images belonging to 1 classes.\n",
      "Found 105 images belonging to 1 classes.\n",
      "Found 102 images belonging to 1 classes.\n",
      "Found 198 images belonging to 1 classes.\n",
      "Found 198 images belonging to 1 classes.\n",
      "Found 111 images belonging to 1 classes.\n",
      "Found 108 images belonging to 1 classes.\n",
      "Found 111 images belonging to 1 classes.\n",
      "Found 93 images belonging to 1 classes.\n",
      "Found 192 images belonging to 1 classes.\n",
      "Found 186 images belonging to 1 classes.\n",
      "Found 111 images belonging to 1 classes.\n",
      "Found 126 images belonging to 1 classes.\n",
      "Found 90 images belonging to 1 classes.\n",
      "Found 135 images belonging to 1 classes.\n",
      "Found 207 images belonging to 1 classes.\n",
      "Found 96 images belonging to 1 classes.\n",
      "Found 93 images belonging to 1 classes.\n",
      "Found 93 images belonging to 1 classes.\n",
      "Found 90 images belonging to 1 classes.\n",
      "Found 150 images belonging to 1 classes.\n",
      "Found 177 images belonging to 1 classes.\n",
      "Found 192 images belonging to 1 classes.\n",
      "Found 117 images belonging to 1 classes.\n",
      "Found 102 images belonging to 1 classes.\n",
      "Found 105 images belonging to 1 classes.\n",
      "Found 90 images belonging to 1 classes.\n",
      "Found 99 images belonging to 1 classes.\n",
      "Found 171 images belonging to 1 classes.\n",
      "Found 243 images belonging to 1 classes.\n",
      "Found 126 images belonging to 1 classes.\n",
      "Found 93 images belonging to 1 classes.\n",
      "Found 153 images belonging to 1 classes.\n",
      "Found 288 images belonging to 1 classes.\n",
      "Found 135 images belonging to 1 classes.\n",
      "Found 294 images belonging to 1 classes.\n",
      "Found 210 images belonging to 1 classes.\n",
      "Found 90 images belonging to 1 classes.\n",
      "Found 441 images belonging to 1 classes.\n",
      "Found 153 images belonging to 1 classes.\n",
      "Found 162 images belonging to 1 classes.\n",
      "Found 111 images belonging to 1 classes.\n",
      "Found 207 images belonging to 1 classes.\n",
      "Found 582 images belonging to 1 classes.\n",
      "Found 192 images belonging to 1 classes.\n",
      "Found 210 images belonging to 1 classes.\n",
      "Found 138 images belonging to 1 classes.\n",
      "Found 162 images belonging to 1 classes.\n",
      "Found 246 images belonging to 1 classes.\n",
      "Found 153 images belonging to 1 classes.\n",
      "Found 258 images belonging to 1 classes.\n",
      "Found 153 images belonging to 1 classes.\n",
      "Found 246 images belonging to 1 classes.\n",
      "Found 114 images belonging to 1 classes.\n",
      "Found 126 images belonging to 1 classes.\n",
      "Found 123 images belonging to 1 classes.\n",
      "Found 117 images belonging to 1 classes.\n",
      "Found 231 images belonging to 1 classes.\n",
      "Found 138 images belonging to 1 classes.\n",
      "Found 96 images belonging to 1 classes.\n",
      "Found 123 images belonging to 1 classes.\n",
      "Found 123 images belonging to 1 classes.\n",
      "Found 141 images belonging to 1 classes.\n",
      "Found 177 images belonging to 1 classes.\n",
      "Found 216 images belonging to 1 classes.\n",
      "Found 438 images belonging to 1 classes.\n",
      "Found 387 images belonging to 1 classes.\n",
      "Found 270 images belonging to 1 classes.\n",
      "Found 243 images belonging to 1 classes.\n",
      "Found 567 images belonging to 1 classes.\n",
      "Found 309 images belonging to 1 classes.\n",
      "Found 93 images belonging to 1 classes.\n",
      "Found 237 images belonging to 1 classes.\n",
      "Found 375 images belonging to 1 classes.\n",
      "Found 252 images belonging to 1 classes.\n",
      "Found 297 images belonging to 1 classes.\n",
      "Found 195 images belonging to 1 classes.\n",
      "Found 144 images belonging to 1 classes.\n",
      "Found 132 images belonging to 1 classes.\n",
      "Found 144 images belonging to 1 classes.\n",
      "Found 348 images belonging to 1 classes.\n",
      "Found 414 images belonging to 1 classes.\n",
      "Found 186 images belonging to 1 classes.\n",
      "Found 171 images belonging to 1 classes.\n",
      "Found 150 images belonging to 1 classes.\n",
      "Found 105 images belonging to 1 classes.\n",
      "Found 366 images belonging to 1 classes.\n",
      "Found 288 images belonging to 1 classes.\n",
      "Found 207 images belonging to 1 classes.\n",
      "Found 150 images belonging to 1 classes.\n",
      "Found 186 images belonging to 1 classes.\n",
      "Found 144 images belonging to 1 classes.\n",
      "Found 111 images belonging to 1 classes.\n",
      "Found 132 images belonging to 1 classes.\n",
      "Found 108 images belonging to 1 classes.\n"
     ]
    }
   ],
   "source": [
    "#image augmentaion\n",
    "# Copy the train images into aug_dir\n",
    "category_labels = [i for i in range(1,103)]\n",
    "\n",
    "for category in category_labels:\n",
    "    category=str(category)\n",
    "    #creating a temporary directories here because we delete these directories later\n",
    "    #create a base dir\n",
    "    aug_dir = 'aug_dir'\n",
    "    os.mkdir(aug_dir)\n",
    "    # create a dir within the base dir to store images of the same class\n",
    "    img_dir = os.path.join(aug_dir, 'img_dir')\n",
    "    os.mkdir(img_dir)\n",
    "\n",
    "    \n",
    "\n",
    "    # list all images in that directory\n",
    "    img_list = os.listdir('./datatree/train/' + category)\n",
    "\n",
    "    # Copy images from the class train dir to the img_dir \n",
    "    for fname in img_list:\n",
    "            # source path to image\n",
    "            src = os.path.join('./datatree/train/' + category, fname)\n",
    "            # destination path to image\n",
    "            dst = os.path.join(img_dir, fname)\n",
    "            # copy the image from the source to the destination\n",
    "            shutil.copyfile(src, dst)\n",
    "\n",
    "\n",
    "    # point to a dir containing the images and not to the images themselves\n",
    "    path = aug_dir\n",
    "    save_path = './datatree/train/' + category\n",
    "\n",
    "    # Create a data generator\n",
    "    datagen = ImageDataGenerator(\n",
    "        rotation_range=180,\n",
    "        width_shift_range=0.1,\n",
    "        height_shift_range=0.1,\n",
    "        zoom_range=0.1,\n",
    "        horizontal_flip=True,\n",
    "        vertical_flip=True,\n",
    "        fill_mode='nearest')\n",
    "\n",
    "    batch_size = 50\n",
    "\n",
    "    aug_datagen = datagen.flow_from_directory(path,\n",
    "                                           save_to_dir=save_path,\n",
    "                                           save_format='jpg',\n",
    "                                                    target_size=(224,224),\n",
    "                                                    batch_size=batch_size)\n",
    "\n",
    "\n",
    "\n",
    "    \n",
    "    \n",
    "    num_aug_images_wanted = 500 # total number of images we want to have in each class\n",
    "    \n",
    "   \n",
    "    \n",
    "    num_files = len(os.listdir(img_dir))\n",
    "    num_batches = int(np.ceil((num_aug_images_wanted-num_files)/batch_size))\n",
    "\n",
    "    # run the generator and create about 500 augmented images\n",
    "    for i in range(0,num_batches):\n",
    "\n",
    "        imgs, labels = next(aug_datagen)\n",
    "        \n",
    "    # delete temporary directory with the raw image files\n",
    "    shutil.rmtree('aug_dir')\n"
   ]
  },
  {
   "cell_type": "code",
   "execution_count": 57,
   "metadata": {},
   "outputs": [
    {
     "data": {
      "text/plain": [
       "500"
      ]
     },
     "execution_count": 57,
     "metadata": {},
     "output_type": "execute_result"
    }
   ],
   "source": [
    "#file names in each category\n",
    "path = './datatree/train'\n",
    "category_file_names= {}\n",
    "\n",
    "for category in category_labels:\n",
    "    category_file_names[category] = os.listdir(path+'/'+str(category))"
   ]
  },
  {
   "cell_type": "code",
   "execution_count": 58,
   "metadata": {},
   "outputs": [],
   "source": [
    "#creating validation tree\n",
    "#by copyting 20% of images from train tree\n",
    "'''\n",
    "import os\n",
    "\n",
    "source='./datatree/train'\n",
    "dest='./datatree/validation'\n",
    "\n",
    "for category in category_labels:\n",
    "    for file , count in zip(category_file_names[category] , range(int(0.2 * len(category_file_names[category])))):\n",
    "        shutil.move(source + '/' + str(category) + '/' + file , dest + '/' + str(category) )\n",
    "'''\n"
   ]
  },
  {
   "cell_type": "code",
   "execution_count": 68,
   "metadata": {},
   "outputs": [],
   "source": [
    "train_path='./datatree/train'\n",
    "validation_path='./datatree/validation'\n",
    "\n",
    "train_images_afteraug=[]\n",
    "validation_images_afteraug=[]\n",
    "\n",
    "for category in category_labels:\n",
    "    train_images_afteraug.append(len(os.listdir(train_path+'/'+str(category))))\n",
    "    validation_images_afteraug.append(len(os.listdir(validation_path+'/'+str(category))))"
   ]
  },
  {
   "cell_type": "code",
   "execution_count": 81,
   "metadata": {},
   "outputs": [
    {
     "data": {
      "image/png": "[encoded data removed]",
      "text/plain": [
       "<Figure size 1224x360 with 1 Axes>"
      ]
     },
     "metadata": {
      "needs_background": "light"
     },
     "output_type": "display_data"
    },
    {
     "data": {
      "image/png": "[encoded data removed]",
      "text/plain": [
       "<Figure size 1224x360 with 1 Axes>"
      ]
     },
     "metadata": {
      "needs_background": "light"
     },
     "output_type": "display_data"
    }
   ],
   "source": [
    "category_labels = [i for i in range(1,103)]\n",
    "\n",
    "plt.figure(figsize=(17,5))\n",
    "plt.bar(category_labels , train_images_afteraug)\n",
    "plt.xticks(category_labels , fontsize=9, rotation=90)\n",
    "plt.title('train images after augmentation')\n",
    "plt.xlabel('category')\n",
    "plt.ylabel('number of images')\n",
    "plt.show()\n",
    "\n",
    "plt.figure(figsize=(17,5))\n",
    "plt.bar(category_labels , validation_images_afteraug)\n",
    "plt.xticks(category_labels , fontsize=9, rotation=90)\n",
    "plt.title('validation images after augmentation')\n",
    "plt.xlabel('category')\n",
    "plt.ylabel('number of images')\n",
    "plt.show()"
   ]
  },
  {
   "cell_type": "code",
   "execution_count": 85,
   "metadata": {},
   "outputs": [
    {
     "name": "stdout",
     "output_type": "stream",
     "text": [
      "total training images: 40591\n",
      "total validation images: 10101\n"
     ]
    }
   ],
   "source": [
    "print('total training images:' , sum(train_images_afteraug))\n",
    "print('total validation images:' , sum(validation_images_afteraug))"
   ]
  },
  {
   "cell_type": "code",
   "execution_count": null,
   "metadata": {},
   "outputs": [],
   "source": []
  }
 ],
 "metadata": {
  "kernelspec": {
   "display_name": "Python 3",
   "language": "python",
   "name": "python3"
  },
  "language_info": {
   "codemirror_mode": {
    "name": "ipython",
    "version": 3
   },
   "file_extension": ".py",
   "mimetype": "text/x-python",
   "name": "python",
   "nbconvert_exporter": "python",
   "pygments_lexer": "ipython3",
   "version": "3.6.7"
  }
 },
 "nbformat": 4,
 "nbformat_minor": 2
}
